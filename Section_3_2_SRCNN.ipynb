{
  "cells": [
    {
      "cell_type": "markdown",
      "metadata": {
        "id": "7mzBvdstUpo8"
      },
      "source": [
        "[![Open In Colab](https://colab.research.google.com/assets/colab-badge.svg)](https://colab.research.google.com/github/YuichiKZ/pytorch_sr/blob/main/Section_3_2_SRCNN.ipynb)\n",
        "\n",
        "\n",
        "#SRCNNのノートブック\n",
        "- このノートブックではPyTorchによるSRCNNネットワークの実装と学習を行い超解像画像生成を体験します。\n",
        "\n",
        "#学習目標\n",
        "- SRCNNのネットワーク構造を理解する\n",
        "- モデル学習時に必要となるデータセットクラスが構築できるようにする\n",
        "- SRCNNの損失関数と最適化アルゴリズムを実装し、ニューラルネットワークの学習を行う\n",
        "- SRCNNで超解像画像の生成を体験する\n"
      ]
    },
    {
      "cell_type": "markdown",
      "metadata": {
        "id": "ucQHQJpV7uRg"
      },
      "source": [
        "### GPU確認"
      ]
    },
    {
      "cell_type": "code",
      "execution_count": 1,
      "metadata": {
        "colab": {
          "base_uri": "https://localhost:8080/"
        },
        "id": "Id6TMSIB79Uf",
        "outputId": "f5db5c33-f552-4128-9c30-663631c62e38"
      },
      "outputs": [
        {
          "output_type": "stream",
          "name": "stdout",
          "text": [
            "Sat Aug 20 05:17:19 2022       \n",
            "+-----------------------------------------------------------------------------+\n",
            "| NVIDIA-SMI 460.32.03    Driver Version: 460.32.03    CUDA Version: 11.2     |\n",
            "|-------------------------------+----------------------+----------------------+\n",
            "| GPU  Name        Persistence-M| Bus-Id        Disp.A | Volatile Uncorr. ECC |\n",
            "| Fan  Temp  Perf  Pwr:Usage/Cap|         Memory-Usage | GPU-Util  Compute M. |\n",
            "|                               |                      |               MIG M. |\n",
            "|===============================+======================+======================|\n",
            "|   0  Tesla V100-SXM2...  Off  | 00000000:00:04.0 Off |                    0 |\n",
            "| N/A   33C    P0    24W / 300W |      0MiB / 16160MiB |      0%      Default |\n",
            "|                               |                      |                  N/A |\n",
            "+-------------------------------+----------------------+----------------------+\n",
            "                                                                               \n",
            "+-----------------------------------------------------------------------------+\n",
            "| Processes:                                                                  |\n",
            "|  GPU   GI   CI        PID   Type   Process name                  GPU Memory |\n",
            "|        ID   ID                                                   Usage      |\n",
            "|=============================================================================|\n",
            "|  No running processes found                                                 |\n",
            "+-----------------------------------------------------------------------------+\n"
          ]
        }
      ],
      "source": [
        "!nvidia-smi"
      ]
    },
    {
      "cell_type": "markdown",
      "metadata": {
        "id": "u6E5PU4uKOM8"
      },
      "source": [
        "## SRCNN\n",
        "\n"
      ]
    },
    {
      "cell_type": "markdown",
      "metadata": {
        "id": "LEulGhq2qgGj"
      },
      "source": [
        "### Google Driveマウント"
      ]
    },
    {
      "cell_type": "code",
      "execution_count": 19,
      "metadata": {
        "colab": {
          "base_uri": "https://localhost:8080/"
        },
        "id": "stxPfVXjqjMP",
        "outputId": "5634430a-a673-4533-f736-a79672c54934"
      },
      "outputs": [
        {
          "output_type": "stream",
          "name": "stdout",
          "text": [
            "Mounted at /content/drive\n"
          ]
        }
      ],
      "source": [
        "from google.colab import drive\n",
        "drive.mount('/content/drive')"
      ]
    },
    {
      "cell_type": "markdown",
      "source": [
        "### ライブラリ"
      ],
      "metadata": {
        "id": "O0p37Wl1b300"
      }
    },
    {
      "cell_type": "code",
      "execution_count": 2,
      "metadata": {
        "id": "MvKW1cUe8ZLi"
      },
      "outputs": [],
      "source": [
        "import torch\n",
        "import torch.utils.data as data\n",
        "from torchvision import transforms\n",
        "from torchvision.transforms import ToTensor, RandomCrop\n",
        "from PIL import Image, ImageOps\n",
        "import random\n",
        "\n",
        "from torch import nn\n",
        "from torch import optim\n",
        "from torch.utils.data import DataLoader\n",
        "from torchvision.utils import save_image\n",
        "\n",
        "from pathlib import Path\n",
        "from math import log10"
      ]
    },
    {
      "cell_type": "markdown",
      "metadata": {
        "id": "vPt69h8nmhVd"
      },
      "source": [
        "### デバイス"
      ]
    },
    {
      "cell_type": "code",
      "execution_count": 3,
      "metadata": {
        "colab": {
          "base_uri": "https://localhost:8080/"
        },
        "id": "M1NblxZqmjdh",
        "outputId": "38d68a65-61c4-4a0a-d81c-fafe48074099"
      },
      "outputs": [
        {
          "output_type": "stream",
          "name": "stdout",
          "text": [
            "cuda:0\n"
          ]
        }
      ],
      "source": [
        "# 学習に使用するデバイスを得る。可能ならGPUを使用する\n",
        "device = torch.device(\"cuda:0\" if torch.cuda.is_available() else \"cpu\")\n",
        "print(device)"
      ]
    },
    {
      "cell_type": "markdown",
      "metadata": {
        "id": "XRqjRvH3o136"
      },
      "source": [
        "### パラメータ"
      ]
    },
    {
      "cell_type": "code",
      "execution_count": 4,
      "metadata": {
        "id": "YBhBuBZXo39n"
      },
      "outputs": [],
      "source": [
        "num_epochs = 30000\n",
        "lr1=1e-4\n",
        "lr2=1e-5\n",
        "batch_size = 10\n",
        "scale_factor = 4\n",
        "patch_size = 96\n",
        "\n",
        "g_drive_dir = \"/content/drive/MyDrive/SRCNN/\""
      ]
    },
    {
      "cell_type": "markdown",
      "source": [
        "### Google Driveに保存ディレクトリ作成"
      ],
      "metadata": {
        "id": "7OrkGuXecMtp"
      }
    },
    {
      "cell_type": "code",
      "source": [
        "import os\n",
        "if not os.path.exists(g_drive_dir):\n",
        "    os.makedirs(g_drive_dir)"
      ],
      "metadata": {
        "id": "HUXv5y829Qrk"
      },
      "execution_count": 20,
      "outputs": []
    },
    {
      "cell_type": "markdown",
      "metadata": {
        "id": "uOWl2_pKinhB"
      },
      "source": [
        "### General-100"
      ]
    },
    {
      "cell_type": "code",
      "source": [
        "!wget -O General-100.zip https://github.com/YuichiKZ/pytorch_sr/blob/main/General-100.zip?raw=true"
      ],
      "metadata": {
        "colab": {
          "base_uri": "https://localhost:8080/"
        },
        "id": "2zgVD0lPoOaT",
        "outputId": "7ffcd41b-a161-4db2-fa99-445fa2a759cd"
      },
      "execution_count": 5,
      "outputs": [
        {
          "output_type": "stream",
          "name": "stdout",
          "text": [
            "--2022-08-20 05:17:31--  https://github.com/YuichiKZ/pytorch_sr/blob/main/General-100.zip?raw=true\n",
            "Resolving github.com (github.com)... 140.82.121.3\n",
            "Connecting to github.com (github.com)|140.82.121.3|:443... connected.\n",
            "HTTP request sent, awaiting response... 302 Found\n",
            "Location: https://github.com/YuichiKZ/pytorch_sr/raw/main/General-100.zip [following]\n",
            "--2022-08-20 05:17:31--  https://github.com/YuichiKZ/pytorch_sr/raw/main/General-100.zip\n",
            "Reusing existing connection to github.com:443.\n",
            "HTTP request sent, awaiting response... 302 Found\n",
            "Location: https://raw.githubusercontent.com/YuichiKZ/pytorch_sr/main/General-100.zip [following]\n",
            "--2022-08-20 05:17:31--  https://raw.githubusercontent.com/YuichiKZ/pytorch_sr/main/General-100.zip\n",
            "Resolving raw.githubusercontent.com (raw.githubusercontent.com)... 185.199.108.133, 185.199.109.133, 185.199.111.133, ...\n",
            "Connecting to raw.githubusercontent.com (raw.githubusercontent.com)|185.199.108.133|:443... connected.\n",
            "HTTP request sent, awaiting response... 200 OK\n",
            "Length: 28958707 (28M) [application/zip]\n",
            "Saving to: ‘General-100.zip’\n",
            "\n",
            "General-100.zip     100%[===================>]  27.62M  --.-KB/s    in 0.09s   \n",
            "\n",
            "2022-08-20 05:17:33 (293 MB/s) - ‘General-100.zip’ saved [28958707/28958707]\n",
            "\n"
          ]
        }
      ]
    },
    {
      "cell_type": "code",
      "execution_count": null,
      "metadata": {
        "id": "E6t-FrWE_0A3"
      },
      "outputs": [],
      "source": [
        "!unzip General-100.zip"
      ]
    },
    {
      "cell_type": "code",
      "execution_count": 7,
      "metadata": {
        "id": "oJEjmsex9Qxk"
      },
      "outputs": [],
      "source": [
        "import os\n",
        "import shutil\n",
        "from glob import glob\n",
        "import numpy as np\n",
        "\n",
        "if not os.path.exists('./General-100/train'):\n",
        "    os.makedirs('./General-100/train')\n",
        "if not os.path.exists('./General-100/test'):\n",
        "    os.makedirs('./General-100/test')\n",
        "if not os.path.exists('./General-100/val'):\n",
        "    os.makedirs('./General-100/val')\n",
        "\n",
        "filenames = np.array(glob('./General-100/*.png'))\n",
        "\n",
        "np.random.seed(0)\n",
        "train_files = np.random.choice(filenames, size=80, replace=False)\n",
        "for filename in train_files:\n",
        "    shutil.move(filename, './General-100/train')\n",
        "\n",
        "test_val_files = np.array(list(set(filenames) - set(train_files)))\n",
        "test_files = np.random.choice(test_val_files, size=10, replace=False)\n",
        "for filename in test_files:\n",
        "    shutil.move(filename, './General-100/test')\n",
        "\n",
        "val_files = np.array(list(set(test_val_files) - set(test_files)))\n",
        "for filename in val_files:\n",
        "    shutil.move(filename, './General-100/val')"
      ]
    },
    {
      "cell_type": "markdown",
      "metadata": {
        "id": "M7z801az7HAX"
      },
      "source": [
        "### データセットの定義"
      ]
    },
    {
      "cell_type": "code",
      "execution_count": 8,
      "metadata": {
        "id": "croFvURv7KLP"
      },
      "outputs": [],
      "source": [
        "class DatasetFromFolder(data.Dataset):\n",
        "    def __init__(self, image_dir, patch_size, scale_factor, data_augmentation=True):\n",
        "        super(DatasetFromFolder, self).__init__()\n",
        "        #fileの取り出し\n",
        "        self.filenames = [str(filename) for filename in Path(image_dir).glob('*') if filename.suffix in ['.bmp', '.jpg', '.png']]\n",
        "        #patch_sizeの指定\n",
        "        self.patch_size = patch_size\n",
        "        #scale_factor(倍率)の指定\n",
        "        self.scale_factor = scale_factor\n",
        "        #data_augmentationの指定\n",
        "        self.data_augmentation = data_augmentation\n",
        "        #PatchSizeでRandom Cropする関数を定義する\n",
        "        self.crop = RandomCrop(self.patch_size)\n",
        "\n",
        "    def __getitem__(self, index):\n",
        "        #filenames listから画像ファイルを開く\n",
        "        target_img = Image.open(self.filenames[index]).convert('RGB')\n",
        "        #patch_size * patch_sizeにResize\n",
        "        target_img = self.crop(target_img) \n",
        "        \n",
        "        #augmentationデータ水増し\n",
        "        if self.data_augmentation:\n",
        "            if random.random() < 0.5:\n",
        "                #上下反転\n",
        "                target_img = ImageOps.flip(target_img)\n",
        "            if random.random() < 0.5:\n",
        "                #左右反転\n",
        "                target_img = ImageOps.mirror(target_img)\n",
        "            if random.random() < 0.5:\n",
        "                #画像回転\n",
        "                target_img = target_img.rotate(180)\n",
        "        \n",
        "        #低解像度画像の生成\n",
        "        #(96/4)=24より(W,H)=(96,96)=>(24,24)にResize\n",
        "        input_img = target_img.resize((self.patch_size // self.scale_factor, self.patch_size // self.scale_factor), Image.BICUBIC)\n",
        "        #(W,H)=(24,24)=>(96,96)にResize\n",
        "        input_img = input_img.resize((self.patch_size, self.patch_size), Image.BICUBIC)\n",
        "        \n",
        "        #補間 24*24=>96*96の画像とoriginal 96*96の画像テンソルを返す\n",
        "        return ToTensor()(input_img), ToTensor()(target_img)\n",
        "\n",
        "    def __len__(self):\n",
        "        return len(self.filenames)"
      ]
    },
    {
      "cell_type": "code",
      "execution_count": 9,
      "metadata": {
        "id": "QII_jcyZ9Ine"
      },
      "outputs": [],
      "source": [
        "class DatasetFromFolderEval(data.Dataset):\n",
        "    def __init__(self, image_dir, scale_factor):\n",
        "        super(DatasetFromFolderEval, self).__init__()\n",
        "        #fileの取り出し\n",
        "        self.filenames = [str(filename) for filename in Path(image_dir).glob('*') if filename.suffix in ['.bmp', '.jpg', '.png']]\n",
        "        #scale_factorの指定\n",
        "        self.scale_factor = scale_factor\n",
        "\n",
        "    def __getitem__(self, index):\n",
        "        #filenames listから画像ファイルを開く\n",
        "        target_img = Image.open(self.filenames[index]).convert('RGB')\n",
        "        \n",
        "        # 低解像度画像にダウンサンプル\n",
        "        input_img = target_img.resize((target_img.size[0] // self.scale_factor, target_img.size[1] // self.scale_factor), Image.BICUBIC)\n",
        "        # SRCNNに入力できるように拡大してサイズを戻す\n",
        "        input_img = input_img.resize(target_img.size, Image.BICUBIC)\n",
        "\n",
        "        return ToTensor()(input_img), ToTensor()(target_img), Path(self.filenames[index]).stem\n",
        "\n",
        "    def __len__(self):\n",
        "        return len(self.filenames)"
      ]
    },
    {
      "cell_type": "code",
      "execution_count": 10,
      "metadata": {
        "id": "V6li_HOV7NAx"
      },
      "outputs": [],
      "source": [
        "train_set = DatasetFromFolder(image_dir='/content/General-100/train', patch_size=patch_size, scale_factor=scale_factor, data_augmentation=True)\n",
        "train_loader = DataLoader(dataset=train_set, batch_size=batch_size, shuffle=True)\n",
        "\n",
        "val_set = DatasetFromFolderEval(image_dir='/content/General-100/val', scale_factor=scale_factor)\n",
        "val_loader = DataLoader(dataset=val_set, batch_size=1, shuffle=False)"
      ]
    },
    {
      "cell_type": "markdown",
      "metadata": {
        "id": "h69LuaDE6-XP"
      },
      "source": [
        "### ネットワーク構造"
      ]
    },
    {
      "cell_type": "code",
      "execution_count": 11,
      "metadata": {
        "id": "BqsuNJAK2NLI"
      },
      "outputs": [],
      "source": [
        "from torch import nn\n",
        "\n",
        "class SRCNN(nn.Module):\n",
        "    def __init__(self):\n",
        "        super(SRCNN, self).__init__()\n",
        "\n",
        "        #パッチ特徴抽出\n",
        "        self.layer1 = nn.Sequential(\n",
        "            nn.Conv2d(in_channels=3, out_channels=64, kernel_size=9, padding=4),\n",
        "            nn.ReLU(),\n",
        "        )\n",
        "        #非線形変換\n",
        "        self.layer2 = nn.Sequential(\n",
        "            nn.Conv2d(in_channels=64, out_channels=32, kernel_size=1, padding=0),\n",
        "            nn.ReLU(),\n",
        "        )\n",
        "        #画像再構成\n",
        "        self.layer3 = nn.Sequential(\n",
        "            nn.Conv2d(in_channels=32, out_channels=3, kernel_size=5, padding=2),\n",
        "            nn.ReLU(),\n",
        "        )\n",
        "\n",
        "    def forward(self, x):\n",
        "        x = self.layer1(x)\n",
        "        x = self.layer2(x)\n",
        "        x = self.layer3(x)\n",
        "        return x"
      ]
    },
    {
      "cell_type": "markdown",
      "metadata": {
        "id": "UxiUGPNZi5jS"
      },
      "source": [
        "### 重み初期化関数"
      ]
    },
    {
      "cell_type": "code",
      "execution_count": 12,
      "metadata": {
        "id": "CIwTawrki8FP"
      },
      "outputs": [],
      "source": [
        "def weights_init(m):\n",
        "    \"\"\"\n",
        "    ニューラルネットワークの重みを初期化する。作成したインスタンスに対しapplyメソッドで適用する\n",
        "    :param m: ニューラルネットワークを構成する層\n",
        "    \"\"\"\n",
        "    classname = m.__class__.__name__\n",
        "    if classname.find('Conv') != -1:            # 畳み込み層の場合\n",
        "        m.weight.data.normal_(0.0, 0.001)\n",
        "        m.bias.data.fill_(0)"
      ]
    },
    {
      "cell_type": "markdown",
      "metadata": {
        "id": "wxiW_zGajjSd"
      },
      "source": [
        "### モデルインスタンス化"
      ]
    },
    {
      "cell_type": "code",
      "execution_count": 13,
      "metadata": {
        "colab": {
          "base_uri": "https://localhost:8080/"
        },
        "id": "TE07DSy6jlNv",
        "outputId": "33787bad-ff25-499c-c38d-4fd66de6001a"
      },
      "outputs": [
        {
          "output_type": "execute_result",
          "data": {
            "text/plain": [
              "SRCNN(\n",
              "  (layer1): Sequential(\n",
              "    (0): Conv2d(3, 64, kernel_size=(9, 9), stride=(1, 1), padding=(4, 4))\n",
              "    (1): ReLU()\n",
              "  )\n",
              "  (layer2): Sequential(\n",
              "    (0): Conv2d(64, 32, kernel_size=(1, 1), stride=(1, 1))\n",
              "    (1): ReLU()\n",
              "  )\n",
              "  (layer3): Sequential(\n",
              "    (0): Conv2d(32, 3, kernel_size=(5, 5), stride=(1, 1), padding=(2, 2))\n",
              "    (1): ReLU()\n",
              "  )\n",
              ")"
            ]
          },
          "metadata": {},
          "execution_count": 13
        }
      ],
      "source": [
        "model = SRCNN().to(device)\n",
        "model.apply(weights_init)"
      ]
    },
    {
      "cell_type": "code",
      "execution_count": 16,
      "metadata": {
        "colab": {
          "base_uri": "https://localhost:8080/"
        },
        "id": "rMmQqdfUutem",
        "outputId": "5db7295a-0657-4d58-df11-92c06d95ce61"
      },
      "outputs": [
        {
          "output_type": "stream",
          "name": "stdout",
          "text": [
            "----------------------------------------------------------------\n",
            "        Layer (type)               Output Shape         Param #\n",
            "================================================================\n",
            "            Conv2d-1           [-1, 64, 96, 96]          15,616\n",
            "              ReLU-2           [-1, 64, 96, 96]               0\n",
            "            Conv2d-3           [-1, 32, 96, 96]           2,080\n",
            "              ReLU-4           [-1, 32, 96, 96]               0\n",
            "            Conv2d-5            [-1, 3, 96, 96]           2,403\n",
            "              ReLU-6            [-1, 3, 96, 96]               0\n",
            "================================================================\n",
            "Total params: 20,099\n",
            "Trainable params: 20,099\n",
            "Non-trainable params: 0\n",
            "----------------------------------------------------------------\n",
            "Input size (MB): 0.11\n",
            "Forward/backward pass size (MB): 13.92\n",
            "Params size (MB): 0.08\n",
            "Estimated Total Size (MB): 14.10\n",
            "----------------------------------------------------------------\n"
          ]
        }
      ],
      "source": [
        "import torchsummary\n",
        "torchsummary.summary(model,(3,96,96))"
      ]
    },
    {
      "cell_type": "markdown",
      "metadata": {
        "id": "_a0cwWYZ7Q7w"
      },
      "source": [
        "### 学習"
      ]
    },
    {
      "cell_type": "code",
      "execution_count": 17,
      "metadata": {
        "id": "pgkin90C7aq-"
      },
      "outputs": [],
      "source": [
        "criterion = nn.MSELoss()\n",
        "optimizer = optim.Adam([{'params': model.layer1.parameters()},\n",
        "                        {'params': model.layer2.parameters()},\n",
        "                        {'params': model.layer3.parameters(), 'lr': lr2}],\n",
        "                        lr=lr1)"
      ]
    },
    {
      "cell_type": "code",
      "execution_count": null,
      "metadata": {
        "id": "1LbPI2Ar7eLd"
      },
      "outputs": [],
      "source": [
        "PSNR_list = []\n",
        "PSNR_val_list = []\n",
        "\n",
        "for epoch in range(num_epochs):\n",
        "    model.train()\n",
        "    epoch_loss, epoch_psnr = 0, 0\n",
        "    for batch in train_loader:\n",
        "        inputs, targets = batch[0].to(device), batch[1].to(device)\n",
        "\n",
        "        optimizer.zero_grad()\n",
        "        prediction = model(inputs)\n",
        "        loss = criterion(prediction, targets)\n",
        "        epoch_loss += loss.data.cpu().detach().numpy()\n",
        "        epoch_psnr += 10 * log10(1 / loss.data)\n",
        "        \n",
        "        loss.backward()\n",
        "        optimizer.step()\n",
        "\n",
        "    PSNR_list.append(epoch_psnr / len(train_loader))\n",
        "    if (epoch + 1) % 10 == 0:\n",
        "        print('[Epoch {}] Loss: {:.4f}, PSNR: {:.4f} dB'.format(epoch + 1, epoch_loss / len(train_loader), epoch_psnr / len(train_loader)))\n",
        "\n",
        "    model.eval()\n",
        "    val_loss, val_psnr = 0, 0\n",
        "    with torch.no_grad():\n",
        "        for batch in val_loader:\n",
        "            inputs, targets = batch[0].to(device), batch[1].to(device)     \n",
        "            \n",
        "            prediction = model(inputs)\n",
        "            loss = criterion(prediction, targets)\n",
        "            val_loss += loss.data.cpu().detach().numpy()\n",
        "            val_psnr += 10 * log10(1 / loss.data)\n",
        "    \n",
        "    PSNR_val_list.append(val_psnr / len(val_loader))\n",
        "    if (epoch + 1) % 10 == 0:\n",
        "        print(\"===> Validation Loss: {:.4f}, Validation PSNR: {:.4f} dB\".format(val_loss / len(val_loader), val_psnr / len(val_loader)))\n",
        "    \n",
        "    \"\"\"\n",
        "    モデルの保存\n",
        "    \"\"\"\n",
        "    if (epoch + 1) % 2000 == 0:   # 2000エポックごとにモデルを保存\n",
        "        torch.save(model.state_dict(), '{}/SRCNN_epoch_{}.pth'.format(g_drive_dir, epoch + 1))\n",
        "    "
      ]
    },
    {
      "cell_type": "markdown",
      "metadata": {
        "id": "eWSA2J1nxZEu"
      },
      "source": [
        "### PSNR表示"
      ]
    },
    {
      "cell_type": "code",
      "execution_count": null,
      "metadata": {
        "id": "AgXJppP1xbED"
      },
      "outputs": [],
      "source": [
        "from matplotlib import pyplot as plt\n",
        "\n",
        "plt.plot(PSNR_list, label='PSNR')\n",
        "plt.plot(PSNR_val_list, label='PSNR_val')\n",
        "plt.legend()\n",
        "plt.savefig('PSNR.png')"
      ]
    },
    {
      "cell_type": "markdown",
      "metadata": {
        "id": "Apf2EucEcv3g"
      },
      "source": [
        "### テスト"
      ]
    },
    {
      "cell_type": "code",
      "execution_count": 22,
      "metadata": {
        "id": "_wAgRd3rcu8a",
        "colab": {
          "base_uri": "https://localhost:8080/"
        },
        "outputId": "3782c295-0f42-4bbd-a1ba-1e821b6157fe"
      },
      "outputs": [
        {
          "output_type": "stream",
          "name": "stdout",
          "text": [
            "===> [Bicubic] Avg. Loss: 0.0046, PSNR: 25.1120 dB\n",
            "===> [SRCNN] Avg. Loss: 0.0039, PSNR: 25.9509 dB\n"
          ]
        }
      ],
      "source": [
        "import torch\n",
        "from torch import nn\n",
        "from torch import optim\n",
        "from torch.utils.data import DataLoader\n",
        "from torchvision.utils import save_image\n",
        "\n",
        "from pathlib import Path\n",
        "from math import log10\n",
        "\n",
        "criterion = nn.MSELoss()\n",
        "\n",
        "save_dir = os.path.join(g_drive_dir,'pic')\n",
        "\n",
        "if not os.path.exists(save_dir):\n",
        "    os.mkdir(save_dir)\n",
        "\n",
        "test_set = DatasetFromFolderEval(image_dir='/content/General-100/test', scale_factor=4)\n",
        "test_loader = DataLoader(dataset=test_set, batch_size=1, shuffle=False)\n",
        "\n",
        "model.eval()\n",
        "total_loss, total_psnr = 0, 0\n",
        "total_loss_b, total_psnr_b = 0, 0\n",
        "with torch.no_grad():\n",
        "    for batch in test_loader:\n",
        "        inputs, targets = batch[0].to(device), batch[1].to(device)\n",
        "\n",
        "        prediction = model(inputs)\n",
        "        loss = criterion(prediction, targets)\n",
        "        total_loss += loss.data\n",
        "        total_psnr += 10 * log10(1 / loss.data)\n",
        "\n",
        "        loss = criterion(inputs, targets)\n",
        "        total_loss_b += loss.data\n",
        "        total_psnr_b += 10 * log10(1 / loss.data)\n",
        "\n",
        "        #google driveに保存\n",
        "        save_image(prediction, Path(save_dir) / '{}_sr.png'.format(batch[2][0]), nrow=1)\n",
        "        save_image(inputs, Path(save_dir) / '{}_lr.png'.format(batch[2][0]), nrow=1)\n",
        "        save_image(targets, Path(save_dir) / '{}_hr.png'.format(batch[2][0]), nrow=1)\n",
        "\n",
        "print(\"===> [Bicubic] Avg. Loss: {:.4f}, PSNR: {:.4f} dB\".format(total_loss_b / len(test_loader), total_psnr_b / len(test_loader)))\n",
        "print(\"===> [SRCNN] Avg. Loss: {:.4f}, PSNR: {:.4f} dB\".format(total_loss / len(test_loader), total_psnr / len(test_loader)))"
      ]
    },
    {
      "cell_type": "markdown",
      "source": [
        "### 学習済み重みを利用する"
      ],
      "metadata": {
        "id": "j_rWdLLIiC2x"
      }
    },
    {
      "cell_type": "code",
      "source": [
        "# githubから30000epoch学習済みモデルをダウンロード\n",
        "!wget -O SRCNN_epoch_30000.pth https://github.com/YuichiKZ/pytorch_sr/blob/main/weights/SRCNN_epoch_30000.pth?raw=true"
      ],
      "metadata": {
        "colab": {
          "base_uri": "https://localhost:8080/"
        },
        "id": "5sBsaNGkiB2j",
        "outputId": "ab6cdf9e-6de4-4ae0-80f4-050ebcc1c55e"
      },
      "execution_count": 14,
      "outputs": [
        {
          "output_type": "stream",
          "name": "stdout",
          "text": [
            "--2022-08-20 05:18:15--  https://github.com/YuichiKZ/pytorch_sr/blob/main/weights/SRCNN_epoch_30000.pth?raw=true\n",
            "Resolving github.com (github.com)... 140.82.121.3\n",
            "Connecting to github.com (github.com)|140.82.121.3|:443... connected.\n",
            "HTTP request sent, awaiting response... 302 Found\n",
            "Location: https://github.com/YuichiKZ/pytorch_sr/raw/main/weights/SRCNN_epoch_30000.pth [following]\n",
            "--2022-08-20 05:18:16--  https://github.com/YuichiKZ/pytorch_sr/raw/main/weights/SRCNN_epoch_30000.pth\n",
            "Reusing existing connection to github.com:443.\n",
            "HTTP request sent, awaiting response... 302 Found\n",
            "Location: https://raw.githubusercontent.com/YuichiKZ/pytorch_sr/main/weights/SRCNN_epoch_30000.pth [following]\n",
            "--2022-08-20 05:18:16--  https://raw.githubusercontent.com/YuichiKZ/pytorch_sr/main/weights/SRCNN_epoch_30000.pth\n",
            "Resolving raw.githubusercontent.com (raw.githubusercontent.com)... 185.199.108.133, 185.199.109.133, 185.199.110.133, ...\n",
            "Connecting to raw.githubusercontent.com (raw.githubusercontent.com)|185.199.108.133|:443... connected.\n",
            "HTTP request sent, awaiting response... 200 OK\n",
            "Length: 82455 (81K) [application/octet-stream]\n",
            "Saving to: ‘SRCNN_epoch_30000.pth’\n",
            "\n",
            "SRCNN_epoch_30000.p 100%[===================>]  80.52K  --.-KB/s    in 0.004s  \n",
            "\n",
            "2022-08-20 05:18:16 (17.6 MB/s) - ‘SRCNN_epoch_30000.pth’ saved [82455/82455]\n",
            "\n"
          ]
        }
      ]
    },
    {
      "cell_type": "code",
      "source": [
        "save_dir = os.path.join(g_drive_dir,'pic')\n",
        "if not os.path.exists(save_dir):\n",
        "    os.mkdir(save_dir)\n",
        "\n",
        "model = SRCNN().to(device)\n",
        "model.load_state_dict(torch.load(\"/content/SRCNN_epoch_30000.pth\"))\n",
        "\n",
        "test_set = DatasetFromFolderEval(image_dir='/content/General-100/test', scale_factor=4)\n",
        "test_loader = DataLoader(dataset=test_set, batch_size=1, shuffle=False)\n",
        "\n",
        "model.eval()\n",
        "total_loss, total_psnr = 0, 0\n",
        "total_loss_b, total_psnr_b = 0, 0\n",
        "with torch.no_grad():\n",
        "    for batch in test_loader:\n",
        "        inputs, targets = batch[0].to(device), batch[1].to(device)\n",
        "\n",
        "        prediction = model(inputs)\n",
        "        loss = criterion(prediction, targets)\n",
        "        total_loss += loss.data\n",
        "        total_psnr += 10 * log10(1 / loss.data)\n",
        "\n",
        "        loss = criterion(inputs, targets)\n",
        "        total_loss_b += loss.data\n",
        "        total_psnr_b += 10 * log10(1 / loss.data)\n",
        "\n",
        "        #google driveに保存\n",
        "        save_image(prediction, Path(save_dir) / '{}_sr.png'.format(batch[2][0]), nrow=1)\n",
        "        save_image(inputs, Path(save_dir) / '{}_lr.png'.format(batch[2][0]), nrow=1)\n",
        "        save_image(targets, Path(save_dir) / '{}_hr.png'.format(batch[2][0]), nrow=1)\n",
        "\n",
        "print(\"===> [Bicubic] Avg. Loss: {:.4f}, PSNR: {:.4f} dB\".format(total_loss_b / len(test_loader), total_psnr_b / len(test_loader)))\n",
        "print(\"===> [SRCNN] Avg. Loss: {:.4f}, PSNR: {:.4f} dB\".format(total_loss / len(test_loader), total_psnr / len(test_loader)))"
      ],
      "metadata": {
        "colab": {
          "base_uri": "https://localhost:8080/"
        },
        "id": "RCmlzldzidkr",
        "outputId": "0ea27a75-36b7-4e1f-a503-612246f4e457"
      },
      "execution_count": 21,
      "outputs": [
        {
          "output_type": "stream",
          "name": "stdout",
          "text": [
            "===> [Bicubic] Avg. Loss: 0.0046, PSNR: 25.1120 dB\n",
            "===> [SRCNN] Avg. Loss: 0.0039, PSNR: 25.9509 dB\n"
          ]
        }
      ]
    }
  ],
  "metadata": {
    "accelerator": "GPU",
    "colab": {
      "background_execution": "on",
      "collapsed_sections": [],
      "name": "Section_3_2_SRCNN.ipynb",
      "provenance": []
    },
    "kernelspec": {
      "display_name": "Python 3",
      "name": "python3"
    },
    "language_info": {
      "name": "python"
    },
    "gpuClass": "standard"
  },
  "nbformat": 4,
  "nbformat_minor": 0
}